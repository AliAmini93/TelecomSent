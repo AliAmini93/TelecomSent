{
 "cells": [
  {
   "cell_type": "markdown",
   "metadata": {},
   "source": [
    "## Data formating"
   ]
  },
  {
   "cell_type": "code",
   "execution_count": 1,
   "metadata": {},
   "outputs": [],
   "source": [
    "import pandas as pd\n",
    "import os"
   ]
  },
  {
   "cell_type": "code",
   "execution_count": 2,
   "metadata": {},
   "outputs": [],
   "source": [
    "df_train = pd.read_csv(os.path.join( \"train.tsv\"),sep=\"\\t\")\n",
    "df_dev = pd.read_csv(os.path.join( \"dev.tsv\"),sep=\"\\t\")\n",
    "df_test = pd.read_csv(os.path.join( \"test.tsv\"),sep=\"\\t\")\n"
   ]
  },
  {
   "cell_type": "code",
   "execution_count": 3,
   "metadata": {},
   "outputs": [],
   "source": [
    "df_train['sentiment'] = df_train['label'].replace(['None','Positive','Negative'],[1,2,0])\n",
    "df_dev['sentiment'] = df_dev['label'].replace(['None','Positive','Negative'],[1,2,0])\n",
    "df_test['sentiment'] = df_test['label'].replace(['None','Positive','Negative'],[1,2,0])"
   ]
  },
  {
   "cell_type": "code",
   "execution_count": 4,
   "metadata": {},
   "outputs": [],
   "source": [
    "train_dev_dat = pd.concat([df_train,df_dev],axis=0)"
   ]
  },
  {
   "cell_type": "code",
   "execution_count": 5,
   "metadata": {},
   "outputs": [],
   "source": [
    "x_cols = ['sentiment','sentence']\n",
    "train_dev_data = train_dev_dat[x_cols]\n",
    "test_data = df_test[x_cols]"
   ]
  },
  {
   "cell_type": "code",
   "execution_count": 6,
   "metadata": {},
   "outputs": [],
   "source": [
    "test_data.to_csv('test_data.tsv',sep='\\t')"
   ]
  },
  {
   "cell_type": "raw",
   "metadata": {
    "vscode": {
     "languageId": "raw"
    }
   },
   "source": [
    "train_data = pd.read_csv('train_data.tsv', sep ='\\t')\n",
    "train_dev_dat = pd.concat([train_data,dev_data],axis=0)"
   ]
  },
  {
   "cell_type": "code",
   "execution_count": 7,
   "metadata": {},
   "outputs": [],
   "source": [
    "train_dat_0s = train_dev_data[train_dev_data['sentiment'] == 0]\n",
    "train_dat_1s = train_dev_data[train_dev_data['sentiment'] == 1]\n",
    "train_dat_2s = train_dev_data[train_dev_data['sentiment'] == 2]"
   ]
  },
  {
   "cell_type": "code",
   "execution_count": 8,
   "metadata": {},
   "outputs": [
    {
     "name": "stdout",
     "output_type": "stream",
     "text": [
      "(236, 2)\n",
      "(1280, 2)\n",
      "(64, 2)\n"
     ]
    }
   ],
   "source": [
    "print(train_dat_0s.shape)\n",
    "print(train_dat_1s.shape)\n",
    "print(train_dat_2s.shape)"
   ]
  },
  {
   "cell_type": "code",
   "execution_count": 9,
   "metadata": {},
   "outputs": [
    {
     "name": "stdout",
     "output_type": "stream",
     "text": [
      "(1180, 2)\n"
     ]
    }
   ],
   "source": [
    "rep_0 =[train_dat_0s for x in range(train_dat_1s.shape[0]//train_dat_0s.shape[0] )]\n",
    "keep_0s = pd.concat(rep_0, axis=0)\n",
    "print(keep_0s.shape)"
   ]
  },
  {
   "cell_type": "code",
   "execution_count": 10,
   "metadata": {
    "scrolled": true
   },
   "outputs": [
    {
     "name": "stdout",
     "output_type": "stream",
     "text": [
      "(1280, 2)\n"
     ]
    }
   ],
   "source": [
    "rep_2 =[train_dat_2s for x in range(train_dat_1s.shape[0]//train_dat_2s.shape[0] )]\n",
    "keep_2s = pd.concat(rep_2, axis=0)\n",
    "print(keep_2s.shape)"
   ]
  },
  {
   "cell_type": "code",
   "execution_count": 11,
   "metadata": {},
   "outputs": [
    {
     "data": {
      "text/plain": [
       "(3740, 2)"
      ]
     },
     "execution_count": 11,
     "metadata": {},
     "output_type": "execute_result"
    }
   ],
   "source": [
    "train_dat = pd.concat([keep_0s,keep_2s,train_dat_1s],axis=0)\n",
    "train_dat.shape"
   ]
  },
  {
   "cell_type": "code",
   "execution_count": 12,
   "metadata": {
    "scrolled": true
   },
   "outputs": [
    {
     "data": {
      "text/html": [
       "<div>\n",
       "<style scoped>\n",
       "    .dataframe tbody tr th:only-of-type {\n",
       "        vertical-align: middle;\n",
       "    }\n",
       "\n",
       "    .dataframe tbody tr th {\n",
       "        vertical-align: top;\n",
       "    }\n",
       "\n",
       "    .dataframe thead th {\n",
       "        text-align: right;\n",
       "    }\n",
       "</style>\n",
       "<table border=\"1\" class=\"dataframe\">\n",
       "  <thead>\n",
       "    <tr style=\"text-align: right;\">\n",
       "      <th></th>\n",
       "      <th>sentiment</th>\n",
       "      <th>sentence</th>\n",
       "    </tr>\n",
       "  </thead>\n",
       "  <tbody>\n",
       "    <tr>\n",
       "      <th>190</th>\n",
       "      <td>1</td>\n",
       "      <td>umemeltd mtn i cant pay for yaka whats the pro...</td>\n",
       "    </tr>\n",
       "    <tr>\n",
       "      <th>191</th>\n",
       "      <td>1</td>\n",
       "      <td>mtn internet also smirk u will have the very m...</td>\n",
       "    </tr>\n",
       "    <tr>\n",
       "      <th>192</th>\n",
       "      <td>1</td>\n",
       "      <td>dear mtn please fix your network internet is s...</td>\n",
       "    </tr>\n",
       "    <tr>\n",
       "      <th>193</th>\n",
       "      <td>1</td>\n",
       "      <td>mtn my internet is really slow lately</td>\n",
       "    </tr>\n",
       "    <tr>\n",
       "      <th>194</th>\n",
       "      <td>1</td>\n",
       "      <td>mtn your system is failing to pay yakakindly r...</td>\n",
       "    </tr>\n",
       "  </tbody>\n",
       "</table>\n",
       "</div>"
      ],
      "text/plain": [
       "     sentiment                                           sentence\n",
       "190          1  umemeltd mtn i cant pay for yaka whats the pro...\n",
       "191          1  mtn internet also smirk u will have the very m...\n",
       "192          1  dear mtn please fix your network internet is s...\n",
       "193          1             mtn my internet is really slow lately \n",
       "194          1  mtn your system is failing to pay yakakindly r..."
      ]
     },
     "execution_count": 12,
     "metadata": {},
     "output_type": "execute_result"
    }
   ],
   "source": [
    "train_dat.tail()"
   ]
  },
  {
   "cell_type": "code",
   "execution_count": 13,
   "metadata": {},
   "outputs": [],
   "source": [
    "train_dat.to_csv('train_dev_data_oversampled.tsv',sep='\\t')"
   ]
  }
 ],
 "metadata": {
  "kernelspec": {
   "display_name": "Python 3",
   "language": "python",
   "name": "python3"
  },
  "language_info": {
   "codemirror_mode": {
    "name": "ipython",
    "version": 3
   },
   "file_extension": ".py",
   "mimetype": "text/x-python",
   "name": "python",
   "nbconvert_exporter": "python",
   "pygments_lexer": "ipython3",
   "version": "3.7.3"
  }
 },
 "nbformat": 4,
 "nbformat_minor": 2
}
